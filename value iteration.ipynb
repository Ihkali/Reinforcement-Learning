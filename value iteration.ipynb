{
 "cells": [
  {
   "cell_type": "code",
   "execution_count": 109,
   "id": "4f54fad0",
   "metadata": {
    "scrolled": true
   },
   "outputs": [
    {
     "data": {
      "image/png": "[encoded data removed]",
      "text/plain": [
       "<Figure size 432x288 with 1 Axes>"
      ]
     },
     "metadata": {
      "needs_background": "light"
     },
     "output_type": "display_data"
    }
   ],
   "source": [
    "import  numpy as np\n",
    "import matplotlib.pyplot as plt\n",
    "# grid size\n",
    "s = 30\n",
    "\n",
    "# initilazing size of gird\n",
    "inputs = np.zeros((s,s))\n",
    "\n",
    "# assigning rewards\n",
    "\n",
    "inputs[5,5] = 50\n",
    "inputs[25,25] = 10\n",
    "inputs[25,20] = 10\n",
    "\n",
    "\n",
    "\n",
    "# grid\n",
    "\n",
    "#initializing values with zeros for value iteration\n",
    "outputs=np.zeros((s,s))\n",
    "\n",
    "# find max around aan index maxfinder()\n",
    "def maxfinder(outputs,i,j):\n",
    "    iu ,jl = i-1,j-1\n",
    "    id,jr = i+1,j+1\n",
    "    if (iu <0 and jl<0):\n",
    "        u = 0\n",
    "        l = 0\n",
    "        d=outputs[id,j]\n",
    "        r=outputs[i,jr]\n",
    "    elif (id ==s and jr==s):\n",
    "        u = outputs[iu,j]\n",
    "        l = outputs[i,jl]\n",
    "        d=0\n",
    "        r=0\n",
    "    elif (iu <0 and jl>=0 and jr<s):\n",
    "        u = 0\n",
    "        l = outputs[i,jl]\n",
    "        d = outputs[id,j]\n",
    "        r = outputs[i,jr]\n",
    "    elif (iu >=0 and jl<0 and id<s):\n",
    "        u = outputs[iu,j]\n",
    "        l = 0\n",
    "        d=outputs[id,j]\n",
    "        r=outputs[i,jr]\n",
    "    elif (id < s and jr==s and iu>=0):\n",
    "        u = outputs[iu,j]\n",
    "        l = outputs[i,jl]\n",
    "        d = outputs[id,j]\n",
    "        r=0\n",
    "    elif (id ==s and jr<s and jl>=0):\n",
    "        u = outputs[iu,j]\n",
    "        l = outputs[i,jl]\n",
    "        d=0\n",
    "        r=outputs[i,jr]\n",
    "    elif (id ==s and jl<0):\n",
    "        u = outputs[iu,j]\n",
    "        l = 0\n",
    "        d=0\n",
    "        r=outputs[i,jr]\n",
    "    elif (iu < 0 and jr==s):\n",
    "        u = 0\n",
    "        l = outputs[i,jl]\n",
    "        d=outputs[id,j]\n",
    "        r=0\n",
    "    else:\n",
    "        u = outputs[iu,j]\n",
    "        l = outputs[i,jl]\n",
    "        d= outputs[id,j]\n",
    "        r= outputs[i,jr]\n",
    "    if (u>=d and u>=l and u>=r):\n",
    "        return u\n",
    "    if(d>=u and d>=l and d>=r):\n",
    "        return d\n",
    "    if(l>=r and l>=u and l>=d):\n",
    "        return l\n",
    "    else:\n",
    "        return r\n",
    "\n",
    "# epocs to valae iteration for each index\n",
    "for epochs in range(1000):\n",
    "    for i in range(s):\n",
    "        for j in range(s):\n",
    "            maxn = maxfinder(outputs,i,j)\n",
    "            outputs[i,j] = inputs[i,j] + 0.9*maxn\n",
    "    \n",
    "\n",
    "# output after grid is updated\n",
    "\n",
    "# changing its type to view correctly\n",
    "out = outputs.astype(int)\n",
    "\n",
    "# final grid with values\n",
    "plt.imshow(out)\n",
    "plt.show()"
   ]
  },
  {
   "cell_type": "code",
   "execution_count": null,
   "id": "40a3931d",
   "metadata": {},
   "outputs": [],
   "source": []
  },
  {
   "cell_type": "code",
   "execution_count": null,
   "id": "333ee049",
   "metadata": {},
   "outputs": [],
   "source": []
  },
  {
   "cell_type": "code",
   "execution_count": null,
   "id": "47125c4a",
   "metadata": {},
   "outputs": [],
   "source": []
  }
 ],
 "metadata": {
  "kernelspec": {
   "display_name": "Python 3 (ipykernel)",
   "language": "python",
   "name": "python3"
  },
  "language_info": {
   "codemirror_mode": {
    "name": "ipython",
    "version": 3
   },
   "file_extension": ".py",
   "mimetype": "text/x-python",
   "name": "python",
   "nbconvert_exporter": "python",
   "pygments_lexer": "ipython3",
   "version": "3.9.12"
  }
 },
 "nbformat": 4,
 "nbformat_minor": 5
}
